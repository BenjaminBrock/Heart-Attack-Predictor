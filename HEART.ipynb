{
  "nbformat": 4,
  "nbformat_minor": 0,
  "metadata": {
    "colab": {
      "provenance": []
    },
    "kernelspec": {
      "name": "python3",
      "display_name": "Python 3"
    },
    "language_info": {
      "name": "python"
    }
  },
  "cells": [
    {
      "cell_type": "markdown",
      "source": [
        "Author - Benjamin Brock\n",
        "Project title - Predicting Heart attacks via feed forward neural network.\n",
        "Date - 10/01/23\n",
        "\n",
        "Description:\n",
        "\n",
        "Using the dataset available @ https://www.kaggle.com/datasets/rashikrahmanpritom/heart-attack-analysis-prediction-dataset\n",
        "this short project aimed to predict whether the individual has had or is likely to have a heart attack. \n",
        "\n",
        "It is important to note that this data set is very limited with only a handful of data entries. As such, this exercise is purely a proof of concept and would require much larger datasets and testing to prove reliable. "
      ],
      "metadata": {
        "id": "kYZ8L2-Aji12"
      }
    },
    {
      "cell_type": "code",
      "execution_count": 3,
      "metadata": {
        "id": "i9wzGQptIXLb"
      },
      "outputs": [],
      "source": [
        "import pandas as pd\n",
        "import numpy as np\n",
        "import tensorflow as tf\n",
        "from keras import Sequential\n",
        "from keras.layers import Dense, Dropout, Input\n",
        "from sklearn.preprocessing import MinMaxScaler\n",
        "import matplotlib.pyplot as plt"
      ]
    },
    {
      "cell_type": "code",
      "source": [
        "import os\n",
        "os.environ['KAGGLE_USERNAME'] = 'benjaminbrock'\n",
        "os.environ['KAGGLE_KEY'] = '6f7f43875d0baa37946d4508865163df'\n",
        "!kaggle datasets download -d rashikrahmanpritom/heart-attack-analysis-prediction-dataset"
      ],
      "metadata": {
        "colab": {
          "base_uri": "https://localhost:8080/"
        },
        "id": "10Fu1ec2GuaO",
        "outputId": "0c3f7fb6-2198-4bf0-e56b-b551351b81ba"
      },
      "execution_count": 4,
      "outputs": [
        {
          "output_type": "stream",
          "name": "stdout",
          "text": [
            "Downloading heart-attack-analysis-prediction-dataset.zip to /content\n",
            "\r  0% 0.00/4.11k [00:00<?, ?B/s]\n",
            "\r100% 4.11k/4.11k [00:00<00:00, 10.3MB/s]\n"
          ]
        }
      ]
    },
    {
      "cell_type": "code",
      "source": [
        "!unzip /content/heart-attack-analysis-prediction-dataset.zip"
      ],
      "metadata": {
        "colab": {
          "base_uri": "https://localhost:8080/"
        },
        "id": "BUVvum_eG4I-",
        "outputId": "c95c6fd0-7b7c-4b5b-d47e-def0590945c0"
      },
      "execution_count": 5,
      "outputs": [
        {
          "output_type": "stream",
          "name": "stdout",
          "text": [
            "Archive:  /content/heart-attack-analysis-prediction-dataset.zip\n",
            "  inflating: heart.csv               \n",
            "  inflating: o2Saturation.csv        \n"
          ]
        }
      ]
    },
    {
      "cell_type": "code",
      "source": [
        "df = pd.read_csv('heart.csv')"
      ],
      "metadata": {
        "id": "M6vvxP_-Jaw4"
      },
      "execution_count": 6,
      "outputs": []
    },
    {
      "cell_type": "code",
      "source": [
        "print(df.head)"
      ],
      "metadata": {
        "colab": {
          "base_uri": "https://localhost:8080/"
        },
        "id": "GK_yhsmGJ2h1",
        "outputId": "1a2964c4-acba-4ddb-b80b-590845c000fc"
      },
      "execution_count": 7,
      "outputs": [
        {
          "output_type": "stream",
          "name": "stdout",
          "text": [
            "<bound method NDFrame.head of      age  sex  cp  trtbps  chol  fbs  restecg  thalachh  exng  oldpeak  slp  \\\n",
            "0     63    1   3     145   233    1        0       150     0      2.3    0   \n",
            "1     37    1   2     130   250    0        1       187     0      3.5    0   \n",
            "2     41    0   1     130   204    0        0       172     0      1.4    2   \n",
            "3     56    1   1     120   236    0        1       178     0      0.8    2   \n",
            "4     57    0   0     120   354    0        1       163     1      0.6    2   \n",
            "..   ...  ...  ..     ...   ...  ...      ...       ...   ...      ...  ...   \n",
            "298   57    0   0     140   241    0        1       123     1      0.2    1   \n",
            "299   45    1   3     110   264    0        1       132     0      1.2    1   \n",
            "300   68    1   0     144   193    1        1       141     0      3.4    1   \n",
            "301   57    1   0     130   131    0        1       115     1      1.2    1   \n",
            "302   57    0   1     130   236    0        0       174     0      0.0    1   \n",
            "\n",
            "     caa  thall  output  \n",
            "0      0      1       1  \n",
            "1      0      2       1  \n",
            "2      0      2       1  \n",
            "3      0      2       1  \n",
            "4      0      2       1  \n",
            "..   ...    ...     ...  \n",
            "298    0      3       0  \n",
            "299    0      3       0  \n",
            "300    2      3       0  \n",
            "301    1      3       0  \n",
            "302    1      2       0  \n",
            "\n",
            "[303 rows x 14 columns]>\n"
          ]
        }
      ]
    },
    {
      "cell_type": "code",
      "source": [
        "Outputs = df.pop('output')\n",
        "print (Outputs)"
      ],
      "metadata": {
        "colab": {
          "base_uri": "https://localhost:8080/"
        },
        "id": "xrqr_aFfJ9XM",
        "outputId": "95381846-1b11-4851-d5fa-fc748fafe44b"
      },
      "execution_count": 8,
      "outputs": [
        {
          "output_type": "stream",
          "name": "stdout",
          "text": [
            "0      1\n",
            "1      1\n",
            "2      1\n",
            "3      1\n",
            "4      1\n",
            "      ..\n",
            "298    0\n",
            "299    0\n",
            "300    0\n",
            "301    0\n",
            "302    0\n",
            "Name: output, Length: 303, dtype: int64\n"
          ]
        }
      ]
    },
    {
      "cell_type": "code",
      "source": [
        "print(df.head)"
      ],
      "metadata": {
        "colab": {
          "base_uri": "https://localhost:8080/"
        },
        "id": "s1QC7g7_KUQD",
        "outputId": "fc6a4b58-27ff-45b2-ebff-c8b50eb7bfb3"
      },
      "execution_count": 9,
      "outputs": [
        {
          "output_type": "stream",
          "name": "stdout",
          "text": [
            "<bound method NDFrame.head of      age  sex  cp  trtbps  chol  fbs  restecg  thalachh  exng  oldpeak  slp  \\\n",
            "0     63    1   3     145   233    1        0       150     0      2.3    0   \n",
            "1     37    1   2     130   250    0        1       187     0      3.5    0   \n",
            "2     41    0   1     130   204    0        0       172     0      1.4    2   \n",
            "3     56    1   1     120   236    0        1       178     0      0.8    2   \n",
            "4     57    0   0     120   354    0        1       163     1      0.6    2   \n",
            "..   ...  ...  ..     ...   ...  ...      ...       ...   ...      ...  ...   \n",
            "298   57    0   0     140   241    0        1       123     1      0.2    1   \n",
            "299   45    1   3     110   264    0        1       132     0      1.2    1   \n",
            "300   68    1   0     144   193    1        1       141     0      3.4    1   \n",
            "301   57    1   0     130   131    0        1       115     1      1.2    1   \n",
            "302   57    0   1     130   236    0        0       174     0      0.0    1   \n",
            "\n",
            "     caa  thall  \n",
            "0      0      1  \n",
            "1      0      2  \n",
            "2      0      2  \n",
            "3      0      2  \n",
            "4      0      2  \n",
            "..   ...    ...  \n",
            "298    0      3  \n",
            "299    0      3  \n",
            "300    2      3  \n",
            "301    1      3  \n",
            "302    1      2  \n",
            "\n",
            "[303 rows x 13 columns]>\n"
          ]
        }
      ]
    },
    {
      "cell_type": "code",
      "source": [
        "def normalise(Data):\n",
        "    Norm = MinMaxScaler(feature_range= (0,1))\n",
        "    N_Data = Norm.fit_transform(np.array(Data))\n",
        "    return N_Data"
      ],
      "metadata": {
        "id": "2JvieTBdKoez"
      },
      "execution_count": 10,
      "outputs": []
    },
    {
      "cell_type": "code",
      "source": [
        "NormData = normalise(df)"
      ],
      "metadata": {
        "id": "hGpZ-NlZKvoX"
      },
      "execution_count": 11,
      "outputs": []
    },
    {
      "cell_type": "code",
      "source": [
        "print (NormData)"
      ],
      "metadata": {
        "colab": {
          "base_uri": "https://localhost:8080/"
        },
        "id": "igOjpIR0LC7A",
        "outputId": "a1192c22-ea5b-433b-a3a0-3659f2489ea4"
      },
      "execution_count": 12,
      "outputs": [
        {
          "output_type": "stream",
          "name": "stdout",
          "text": [
            "[[0.70833333 1.         1.         ... 0.         0.         0.33333333]\n",
            " [0.16666667 1.         0.66666667 ... 0.         0.         0.66666667]\n",
            " [0.25       0.         0.33333333 ... 1.         0.         0.66666667]\n",
            " ...\n",
            " [0.8125     1.         0.         ... 0.5        0.5        1.        ]\n",
            " [0.58333333 1.         0.         ... 0.5        0.25       1.        ]\n",
            " [0.58333333 0.         0.33333333 ... 0.5        0.25       0.66666667]]\n"
          ]
        }
      ]
    },
    {
      "cell_type": "code",
      "source": [
        "print (len(NormData))\n",
        "val_split = 0.9\n",
        "Train, Val = NormData[0:int(val_split*len(NormData))] , NormData[int(val_split*len(NormData)): len(NormData)]"
      ],
      "metadata": {
        "colab": {
          "base_uri": "https://localhost:8080/"
        },
        "id": "fGB0ZBvXLrMZ",
        "outputId": "68290eb9-ea7e-4887-af4b-831ab95a32ba"
      },
      "execution_count": 13,
      "outputs": [
        {
          "output_type": "stream",
          "name": "stdout",
          "text": [
            "303\n"
          ]
        }
      ]
    },
    {
      "cell_type": "code",
      "source": [
        "Label, Val_label = Outputs[0:int(val_split*len(Outputs))] , Outputs[int(val_split*len(Outputs)): len(Outputs)]"
      ],
      "metadata": {
        "id": "uLVdDnt-QjYA"
      },
      "execution_count": 14,
      "outputs": []
    },
    {
      "cell_type": "code",
      "source": [
        "model = Sequential()\n",
        "model.add(Input(shape = 13))\n",
        "model.add(Dense(32, activation = 'relu'))\n",
        "model.add(Dense(16, activation = 'relu'))\n",
        "model.add(Dense(1, activation = 'sigmoid'))\n",
        "#model.compile(loss = 'mse', optimizer = 'Adam')\n",
        "model.compile(optimizer='adam',\n",
        "              loss=tf.keras.losses.BinaryCrossentropy(from_logits=True),\n",
        "              metrics=['accuracy'])"
      ],
      "metadata": {
        "id": "0VFKLgL_ONCn"
      },
      "execution_count": 15,
      "outputs": []
    },
    {
      "cell_type": "code",
      "source": [
        "model.fit(Train,Label, epochs = 100 )"
      ],
      "metadata": {
        "colab": {
          "base_uri": "https://localhost:8080/"
        },
        "id": "gV6DwK1-Q2PK",
        "outputId": "b0c9d1c5-6516-4ea9-9da2-bb091deb8d8a"
      },
      "execution_count": 16,
      "outputs": [
        {
          "output_type": "stream",
          "name": "stdout",
          "text": [
            "Epoch 1/100\n"
          ]
        },
        {
          "output_type": "stream",
          "name": "stderr",
          "text": [
            "/usr/local/lib/python3.10/dist-packages/keras/backend.py:5703: UserWarning: \"`binary_crossentropy` received `from_logits=True`, but the `output` argument was produced by a Sigmoid activation and thus does not represent logits. Was this intended?\n",
            "  output, from_logits = _get_logits(\n"
          ]
        },
        {
          "output_type": "stream",
          "name": "stdout",
          "text": [
            "9/9 [==============================] - 2s 2ms/step - loss: 0.6441 - accuracy: 0.7390\n",
            "Epoch 2/100\n",
            "9/9 [==============================] - 0s 1ms/step - loss: 0.6086 - accuracy: 0.7610\n",
            "Epoch 3/100\n",
            "9/9 [==============================] - 0s 1ms/step - loss: 0.5795 - accuracy: 0.7537\n",
            "Epoch 4/100\n",
            "9/9 [==============================] - 0s 1ms/step - loss: 0.5512 - accuracy: 0.7721\n",
            "Epoch 5/100\n",
            "9/9 [==============================] - 0s 1ms/step - loss: 0.5228 - accuracy: 0.7904\n",
            "Epoch 6/100\n",
            "9/9 [==============================] - 0s 1ms/step - loss: 0.4974 - accuracy: 0.8162\n",
            "Epoch 7/100\n",
            "9/9 [==============================] - 0s 2ms/step - loss: 0.4720 - accuracy: 0.8162\n",
            "Epoch 8/100\n",
            "9/9 [==============================] - 0s 1ms/step - loss: 0.4487 - accuracy: 0.8199\n",
            "Epoch 9/100\n",
            "9/9 [==============================] - 0s 1ms/step - loss: 0.4271 - accuracy: 0.8088\n",
            "Epoch 10/100\n",
            "9/9 [==============================] - 0s 2ms/step - loss: 0.4128 - accuracy: 0.8162\n",
            "Epoch 11/100\n",
            "9/9 [==============================] - 0s 2ms/step - loss: 0.3948 - accuracy: 0.8199\n",
            "Epoch 12/100\n",
            "9/9 [==============================] - 0s 2ms/step - loss: 0.3855 - accuracy: 0.8088\n",
            "Epoch 13/100\n",
            "9/9 [==============================] - 0s 2ms/step - loss: 0.3744 - accuracy: 0.8051\n",
            "Epoch 14/100\n",
            "9/9 [==============================] - 0s 2ms/step - loss: 0.3662 - accuracy: 0.8272\n",
            "Epoch 15/100\n",
            "9/9 [==============================] - 0s 2ms/step - loss: 0.3602 - accuracy: 0.8309\n",
            "Epoch 16/100\n",
            "9/9 [==============================] - 0s 3ms/step - loss: 0.3560 - accuracy: 0.8456\n",
            "Epoch 17/100\n",
            "9/9 [==============================] - 0s 2ms/step - loss: 0.3506 - accuracy: 0.8493\n",
            "Epoch 18/100\n",
            "9/9 [==============================] - 0s 2ms/step - loss: 0.3445 - accuracy: 0.8456\n",
            "Epoch 19/100\n",
            "9/9 [==============================] - 0s 2ms/step - loss: 0.3411 - accuracy: 0.8603\n",
            "Epoch 20/100\n",
            "9/9 [==============================] - 0s 1ms/step - loss: 0.3371 - accuracy: 0.8640\n",
            "Epoch 21/100\n",
            "9/9 [==============================] - 0s 1ms/step - loss: 0.3340 - accuracy: 0.8529\n",
            "Epoch 22/100\n",
            "9/9 [==============================] - 0s 1ms/step - loss: 0.3327 - accuracy: 0.8603\n",
            "Epoch 23/100\n",
            "9/9 [==============================] - 0s 1ms/step - loss: 0.3298 - accuracy: 0.8603\n",
            "Epoch 24/100\n",
            "9/9 [==============================] - 0s 2ms/step - loss: 0.3276 - accuracy: 0.8603\n",
            "Epoch 25/100\n",
            "9/9 [==============================] - 0s 2ms/step - loss: 0.3264 - accuracy: 0.8640\n",
            "Epoch 26/100\n",
            "9/9 [==============================] - 0s 1ms/step - loss: 0.3231 - accuracy: 0.8676\n",
            "Epoch 27/100\n",
            "9/9 [==============================] - 0s 2ms/step - loss: 0.3218 - accuracy: 0.8603\n",
            "Epoch 28/100\n",
            "9/9 [==============================] - 0s 2ms/step - loss: 0.3193 - accuracy: 0.8603\n",
            "Epoch 29/100\n",
            "9/9 [==============================] - 0s 2ms/step - loss: 0.3197 - accuracy: 0.8750\n",
            "Epoch 30/100\n",
            "9/9 [==============================] - 0s 3ms/step - loss: 0.3184 - accuracy: 0.8640\n",
            "Epoch 31/100\n",
            "9/9 [==============================] - 0s 2ms/step - loss: 0.3150 - accuracy: 0.8603\n",
            "Epoch 32/100\n",
            "9/9 [==============================] - 0s 2ms/step - loss: 0.3147 - accuracy: 0.8824\n",
            "Epoch 33/100\n",
            "9/9 [==============================] - 0s 2ms/step - loss: 0.3135 - accuracy: 0.8824\n",
            "Epoch 34/100\n",
            "9/9 [==============================] - 0s 2ms/step - loss: 0.3146 - accuracy: 0.8603\n",
            "Epoch 35/100\n",
            "9/9 [==============================] - 0s 2ms/step - loss: 0.3082 - accuracy: 0.8713\n",
            "Epoch 36/100\n",
            "9/9 [==============================] - 0s 1ms/step - loss: 0.3103 - accuracy: 0.8824\n",
            "Epoch 37/100\n",
            "9/9 [==============================] - 0s 2ms/step - loss: 0.3066 - accuracy: 0.8824\n",
            "Epoch 38/100\n",
            "9/9 [==============================] - 0s 2ms/step - loss: 0.3072 - accuracy: 0.8713\n",
            "Epoch 39/100\n",
            "9/9 [==============================] - 0s 1ms/step - loss: 0.3075 - accuracy: 0.8603\n",
            "Epoch 40/100\n",
            "9/9 [==============================] - 0s 1ms/step - loss: 0.3029 - accuracy: 0.8860\n",
            "Epoch 41/100\n",
            "9/9 [==============================] - 0s 2ms/step - loss: 0.3038 - accuracy: 0.8897\n",
            "Epoch 42/100\n",
            "9/9 [==============================] - 0s 1ms/step - loss: 0.3017 - accuracy: 0.8824\n",
            "Epoch 43/100\n",
            "9/9 [==============================] - 0s 1ms/step - loss: 0.2999 - accuracy: 0.8787\n",
            "Epoch 44/100\n",
            "9/9 [==============================] - 0s 2ms/step - loss: 0.2990 - accuracy: 0.8824\n",
            "Epoch 45/100\n",
            "9/9 [==============================] - 0s 2ms/step - loss: 0.2984 - accuracy: 0.8860\n",
            "Epoch 46/100\n",
            "9/9 [==============================] - 0s 1ms/step - loss: 0.2956 - accuracy: 0.8824\n",
            "Epoch 47/100\n",
            "9/9 [==============================] - 0s 2ms/step - loss: 0.2960 - accuracy: 0.8824\n",
            "Epoch 48/100\n",
            "9/9 [==============================] - 0s 2ms/step - loss: 0.2948 - accuracy: 0.8824\n",
            "Epoch 49/100\n",
            "9/9 [==============================] - 0s 2ms/step - loss: 0.2935 - accuracy: 0.8860\n",
            "Epoch 50/100\n",
            "9/9 [==============================] - 0s 3ms/step - loss: 0.2929 - accuracy: 0.8824\n",
            "Epoch 51/100\n",
            "9/9 [==============================] - 0s 2ms/step - loss: 0.2924 - accuracy: 0.8897\n",
            "Epoch 52/100\n",
            "9/9 [==============================] - 0s 2ms/step - loss: 0.2908 - accuracy: 0.8824\n",
            "Epoch 53/100\n",
            "9/9 [==============================] - 0s 2ms/step - loss: 0.2905 - accuracy: 0.8824\n",
            "Epoch 54/100\n",
            "9/9 [==============================] - 0s 2ms/step - loss: 0.2878 - accuracy: 0.8897\n",
            "Epoch 55/100\n",
            "9/9 [==============================] - 0s 2ms/step - loss: 0.2866 - accuracy: 0.8860\n",
            "Epoch 56/100\n",
            "9/9 [==============================] - 0s 2ms/step - loss: 0.2864 - accuracy: 0.8860\n",
            "Epoch 57/100\n",
            "9/9 [==============================] - 0s 2ms/step - loss: 0.2852 - accuracy: 0.8824\n",
            "Epoch 58/100\n",
            "9/9 [==============================] - 0s 2ms/step - loss: 0.2858 - accuracy: 0.8787\n",
            "Epoch 59/100\n",
            "9/9 [==============================] - 0s 2ms/step - loss: 0.2835 - accuracy: 0.8860\n",
            "Epoch 60/100\n",
            "9/9 [==============================] - 0s 2ms/step - loss: 0.2827 - accuracy: 0.8824\n",
            "Epoch 61/100\n",
            "9/9 [==============================] - 0s 1ms/step - loss: 0.2823 - accuracy: 0.8824\n",
            "Epoch 62/100\n",
            "9/9 [==============================] - 0s 2ms/step - loss: 0.2805 - accuracy: 0.8860\n",
            "Epoch 63/100\n",
            "9/9 [==============================] - 0s 2ms/step - loss: 0.2803 - accuracy: 0.8860\n",
            "Epoch 64/100\n",
            "9/9 [==============================] - 0s 2ms/step - loss: 0.2783 - accuracy: 0.8824\n",
            "Epoch 65/100\n",
            "9/9 [==============================] - 0s 1ms/step - loss: 0.2771 - accuracy: 0.8860\n",
            "Epoch 66/100\n",
            "9/9 [==============================] - 0s 1ms/step - loss: 0.2783 - accuracy: 0.8860\n",
            "Epoch 67/100\n",
            "9/9 [==============================] - 0s 2ms/step - loss: 0.2760 - accuracy: 0.8860\n",
            "Epoch 68/100\n",
            "9/9 [==============================] - 0s 1ms/step - loss: 0.2741 - accuracy: 0.8897\n",
            "Epoch 69/100\n",
            "9/9 [==============================] - 0s 2ms/step - loss: 0.2742 - accuracy: 0.8860\n",
            "Epoch 70/100\n",
            "9/9 [==============================] - 0s 2ms/step - loss: 0.2731 - accuracy: 0.8860\n",
            "Epoch 71/100\n",
            "9/9 [==============================] - 0s 2ms/step - loss: 0.2729 - accuracy: 0.8860\n",
            "Epoch 72/100\n",
            "9/9 [==============================] - 0s 2ms/step - loss: 0.2709 - accuracy: 0.8824\n",
            "Epoch 73/100\n",
            "9/9 [==============================] - 0s 2ms/step - loss: 0.2699 - accuracy: 0.8824\n",
            "Epoch 74/100\n",
            "9/9 [==============================] - 0s 1ms/step - loss: 0.2706 - accuracy: 0.8897\n",
            "Epoch 75/100\n",
            "9/9 [==============================] - 0s 2ms/step - loss: 0.2741 - accuracy: 0.8897\n",
            "Epoch 76/100\n",
            "9/9 [==============================] - 0s 2ms/step - loss: 0.2732 - accuracy: 0.8934\n",
            "Epoch 77/100\n",
            "9/9 [==============================] - 0s 2ms/step - loss: 0.2699 - accuracy: 0.8860\n",
            "Epoch 78/100\n",
            "9/9 [==============================] - 0s 2ms/step - loss: 0.2688 - accuracy: 0.8897\n",
            "Epoch 79/100\n",
            "9/9 [==============================] - 0s 2ms/step - loss: 0.2656 - accuracy: 0.8934\n",
            "Epoch 80/100\n",
            "9/9 [==============================] - 0s 2ms/step - loss: 0.2654 - accuracy: 0.9044\n",
            "Epoch 81/100\n",
            "9/9 [==============================] - 0s 1ms/step - loss: 0.2641 - accuracy: 0.8934\n",
            "Epoch 82/100\n",
            "9/9 [==============================] - 0s 1ms/step - loss: 0.2634 - accuracy: 0.8934\n",
            "Epoch 83/100\n",
            "9/9 [==============================] - 0s 2ms/step - loss: 0.2619 - accuracy: 0.8934\n",
            "Epoch 84/100\n",
            "9/9 [==============================] - 0s 1ms/step - loss: 0.2622 - accuracy: 0.8860\n",
            "Epoch 85/100\n",
            "9/9 [==============================] - 0s 2ms/step - loss: 0.2598 - accuracy: 0.8934\n",
            "Epoch 86/100\n",
            "9/9 [==============================] - 0s 2ms/step - loss: 0.2602 - accuracy: 0.9081\n",
            "Epoch 87/100\n",
            "9/9 [==============================] - 0s 2ms/step - loss: 0.2605 - accuracy: 0.9044\n",
            "Epoch 88/100\n",
            "9/9 [==============================] - 0s 2ms/step - loss: 0.2591 - accuracy: 0.9007\n",
            "Epoch 89/100\n",
            "9/9 [==============================] - 0s 2ms/step - loss: 0.2591 - accuracy: 0.8971\n",
            "Epoch 90/100\n",
            "9/9 [==============================] - 0s 1ms/step - loss: 0.2561 - accuracy: 0.8934\n",
            "Epoch 91/100\n",
            "9/9 [==============================] - 0s 2ms/step - loss: 0.2561 - accuracy: 0.8971\n",
            "Epoch 92/100\n",
            "9/9 [==============================] - 0s 1ms/step - loss: 0.2582 - accuracy: 0.9007\n",
            "Epoch 93/100\n",
            "9/9 [==============================] - 0s 2ms/step - loss: 0.2577 - accuracy: 0.8971\n",
            "Epoch 94/100\n",
            "9/9 [==============================] - 0s 2ms/step - loss: 0.2557 - accuracy: 0.9007\n",
            "Epoch 95/100\n",
            "9/9 [==============================] - 0s 2ms/step - loss: 0.2532 - accuracy: 0.8971\n",
            "Epoch 96/100\n",
            "9/9 [==============================] - 0s 2ms/step - loss: 0.2530 - accuracy: 0.9007\n",
            "Epoch 97/100\n",
            "9/9 [==============================] - 0s 2ms/step - loss: 0.2517 - accuracy: 0.9044\n",
            "Epoch 98/100\n",
            "9/9 [==============================] - 0s 2ms/step - loss: 0.2512 - accuracy: 0.9007\n",
            "Epoch 99/100\n",
            "9/9 [==============================] - 0s 2ms/step - loss: 0.2520 - accuracy: 0.9081\n",
            "Epoch 100/100\n",
            "9/9 [==============================] - 0s 2ms/step - loss: 0.2501 - accuracy: 0.9007\n"
          ]
        },
        {
          "output_type": "execute_result",
          "data": {
            "text/plain": [
              "<keras.callbacks.History at 0x7f59737d2a40>"
            ]
          },
          "metadata": {},
          "execution_count": 16
        }
      ]
    },
    {
      "cell_type": "code",
      "source": [
        "#print(len(Train))\n",
        "#A value equal to or above \n",
        "print(Label[270])\n",
        "print(model.predict(Train)[270])"
      ],
      "metadata": {
        "colab": {
          "base_uri": "https://localhost:8080/"
        },
        "id": "lM0DECTlI1gH",
        "outputId": "994982b0-9d9b-4c5c-fb8b-c2e93345c940"
      },
      "execution_count": 17,
      "outputs": [
        {
          "output_type": "stream",
          "name": "stdout",
          "text": [
            "0\n",
            "9/9 [==============================] - 0s 1ms/step\n",
            "[0.264345]\n"
          ]
        }
      ]
    },
    {
      "cell_type": "markdown",
      "source": [
        "There is limit data to go off in this data set and as such a NN appraoch may not be the ideal solution. Fortunately, the SKLearn package contains several preset algorithms to compare it against."
      ],
      "metadata": {
        "id": "QBCCOPf28Xxh"
      }
    },
    {
      "cell_type": "code",
      "source": [
        "from sklearn.linear_model import LinearRegression\n",
        "\n",
        "lr = LinearRegression()\n",
        "\n",
        "from sklearn.svm import SVC \n",
        "\n",
        "svc = SVC(kernel='linear')\n",
        "\n",
        "from sklearn.naive_bayes import GaussianNB\n",
        "\n",
        "gnb = GaussianNB()\n",
        "\n",
        "from sklearn import neighbors\n",
        "\n",
        "knn = neighbors.KNeighborsClassifier(n_neighbors=5)\n"
      ],
      "metadata": {
        "id": "mxU-Hjk48YWx"
      },
      "execution_count": 19,
      "outputs": []
    },
    {
      "cell_type": "code",
      "source": [
        "from sklearn.pipeline import make_pipeline\n",
        "from sklearn.preprocessing import StandardScaler\n",
        "\n",
        "model = make_pipeline(StandardScaler(with_mean=False), LinearRegression())\n",
        "model.fit(Train, Label)\n",
        "model.score(Train, Label)"
      ],
      "metadata": {
        "id": "ntc8bWbc8ZhJ",
        "colab": {
          "base_uri": "https://localhost:8080/"
        },
        "outputId": "f032a95d-b647-4488-c085-574593d382c4"
      },
      "execution_count": 20,
      "outputs": [
        {
          "output_type": "execute_result",
          "data": {
            "text/plain": [
              "0.5542336719246868"
            ]
          },
          "metadata": {},
          "execution_count": 20
        }
      ]
    },
    {
      "cell_type": "code",
      "source": [
        "svc.fit(Train , Label)\n",
        "svc.score(Train, Label)\n"
      ],
      "metadata": {
        "id": "NGXWSQtc8c6y",
        "colab": {
          "base_uri": "https://localhost:8080/"
        },
        "outputId": "9be61f47-4e03-4d30-bf11-f0d8c9f9566c"
      },
      "execution_count": 21,
      "outputs": [
        {
          "output_type": "execute_result",
          "data": {
            "text/plain": [
              "0.8639705882352942"
            ]
          },
          "metadata": {},
          "execution_count": 21
        }
      ]
    },
    {
      "cell_type": "code",
      "source": [
        "knn.fit(Train , Label)\n",
        "knn.score(Train, Label)\n"
      ],
      "metadata": {
        "id": "AKX5PXP-8dgl",
        "colab": {
          "base_uri": "https://localhost:8080/"
        },
        "outputId": "fc46af88-81af-4bb2-e468-3d6231004b91"
      },
      "execution_count": 22,
      "outputs": [
        {
          "output_type": "execute_result",
          "data": {
            "text/plain": [
              "0.8786764705882353"
            ]
          },
          "metadata": {},
          "execution_count": 22
        }
      ]
    }
  ]
}