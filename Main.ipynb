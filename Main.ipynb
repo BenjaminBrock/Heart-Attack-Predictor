{
  "nbformat": 4,
  "nbformat_minor": 0,
  "metadata": {
    "colab": {
      "provenance": []
    },
    "kernelspec": {
      "name": "python3",
      "display_name": "Python 3"
    },
    "language_info": {
      "name": "python"
    }
  },
  "cells": [
    {
      "cell_type": "markdown",
      "source": [
        "Author - Benjamin Brock\n",
        "Project title - Predicting Heart attacks via feed forward neural network.\n",
        "Date - 10/01/23\n",
        "\n",
        "Description:\n",
        "\n",
        "Using the dataset available @ https://www.kaggle.com/datasets/rashikrahmanpritom/heart-attack-analysis-prediction-dataset\n",
        "this short project aimed to predict whether the individual has had or is likely to have a heart attack. \n",
        "\n",
        "It is important to note that this data set is very limited with only a handful of data entries. As such, this exercise is purely a proof of concept and would require much larger datasets and testing to prove reliable. "
      ],
      "metadata": {
        "id": "kYZ8L2-Aji12"
      }
    },
    {
      "cell_type": "code",
      "execution_count": 1,
      "metadata": {
        "id": "i9wzGQptIXLb"
      },
      "outputs": [],
      "source": [
        "import pandas as pd\n",
        "import numpy as np\n",
        "import tensorflow as tf\n",
        "from keras import Sequential\n",
        "from keras.layers import Dense, Dropout, Input\n",
        "from sklearn.preprocessing import MinMaxScaler\n",
        "import matplotlib.pyplot as plt"
      ]
    },
    {
      "cell_type": "code",
      "source": [
        "df = pd.read_csv('heart.csv')"
      ],
      "metadata": {
        "id": "M6vvxP_-Jaw4"
      },
      "execution_count": 2,
      "outputs": []
    },
    {
      "cell_type": "code",
      "source": [
        "print(df.head)"
      ],
      "metadata": {
        "colab": {
          "base_uri": "https://localhost:8080/"
        },
        "id": "GK_yhsmGJ2h1",
        "outputId": "f969a0ac-c09b-44ac-d654-020b905b413f"
      },
      "execution_count": 3,
      "outputs": [
        {
          "output_type": "stream",
          "name": "stdout",
          "text": [
            "<bound method NDFrame.head of      age  sex  cp  trtbps  chol  fbs  restecg  thalachh  exng  oldpeak  slp  \\\n",
            "0     63    1   3     145   233    1        0       150     0      2.3    0   \n",
            "1     37    1   2     130   250    0        1       187     0      3.5    0   \n",
            "2     41    0   1     130   204    0        0       172     0      1.4    2   \n",
            "3     56    1   1     120   236    0        1       178     0      0.8    2   \n",
            "4     57    0   0     120   354    0        1       163     1      0.6    2   \n",
            "..   ...  ...  ..     ...   ...  ...      ...       ...   ...      ...  ...   \n",
            "298   57    0   0     140   241    0        1       123     1      0.2    1   \n",
            "299   45    1   3     110   264    0        1       132     0      1.2    1   \n",
            "300   68    1   0     144   193    1        1       141     0      3.4    1   \n",
            "301   57    1   0     130   131    0        1       115     1      1.2    1   \n",
            "302   57    0   1     130   236    0        0       174     0      0.0    1   \n",
            "\n",
            "     caa  thall  output  \n",
            "0      0      1       1  \n",
            "1      0      2       1  \n",
            "2      0      2       1  \n",
            "3      0      2       1  \n",
            "4      0      2       1  \n",
            "..   ...    ...     ...  \n",
            "298    0      3       0  \n",
            "299    0      3       0  \n",
            "300    2      3       0  \n",
            "301    1      3       0  \n",
            "302    1      2       0  \n",
            "\n",
            "[303 rows x 14 columns]>\n"
          ]
        }
      ]
    },
    {
      "cell_type": "code",
      "source": [
        "Outputs = df.pop('output')\n",
        "print (Outputs)"
      ],
      "metadata": {
        "colab": {
          "base_uri": "https://localhost:8080/"
        },
        "id": "xrqr_aFfJ9XM",
        "outputId": "8fa7db89-1281-49de-82ae-7c03706fef01"
      },
      "execution_count": 4,
      "outputs": [
        {
          "output_type": "stream",
          "name": "stdout",
          "text": [
            "0      1\n",
            "1      1\n",
            "2      1\n",
            "3      1\n",
            "4      1\n",
            "      ..\n",
            "298    0\n",
            "299    0\n",
            "300    0\n",
            "301    0\n",
            "302    0\n",
            "Name: output, Length: 303, dtype: int64\n"
          ]
        }
      ]
    },
    {
      "cell_type": "code",
      "source": [
        "print(df.head)"
      ],
      "metadata": {
        "colab": {
          "base_uri": "https://localhost:8080/"
        },
        "id": "s1QC7g7_KUQD",
        "outputId": "44689fef-e275-4a2a-809b-9295c6da5e18"
      },
      "execution_count": 5,
      "outputs": [
        {
          "output_type": "stream",
          "name": "stdout",
          "text": [
            "<bound method NDFrame.head of      age  sex  cp  trtbps  chol  fbs  restecg  thalachh  exng  oldpeak  slp  \\\n",
            "0     63    1   3     145   233    1        0       150     0      2.3    0   \n",
            "1     37    1   2     130   250    0        1       187     0      3.5    0   \n",
            "2     41    0   1     130   204    0        0       172     0      1.4    2   \n",
            "3     56    1   1     120   236    0        1       178     0      0.8    2   \n",
            "4     57    0   0     120   354    0        1       163     1      0.6    2   \n",
            "..   ...  ...  ..     ...   ...  ...      ...       ...   ...      ...  ...   \n",
            "298   57    0   0     140   241    0        1       123     1      0.2    1   \n",
            "299   45    1   3     110   264    0        1       132     0      1.2    1   \n",
            "300   68    1   0     144   193    1        1       141     0      3.4    1   \n",
            "301   57    1   0     130   131    0        1       115     1      1.2    1   \n",
            "302   57    0   1     130   236    0        0       174     0      0.0    1   \n",
            "\n",
            "     caa  thall  \n",
            "0      0      1  \n",
            "1      0      2  \n",
            "2      0      2  \n",
            "3      0      2  \n",
            "4      0      2  \n",
            "..   ...    ...  \n",
            "298    0      3  \n",
            "299    0      3  \n",
            "300    2      3  \n",
            "301    1      3  \n",
            "302    1      2  \n",
            "\n",
            "[303 rows x 13 columns]>\n"
          ]
        }
      ]
    },
    {
      "cell_type": "code",
      "source": [
        "def normalise(Data):\n",
        "    Norm = MinMaxScaler(feature_range= (0,1))\n",
        "    N_Data = Norm.fit_transform(np.array(Data))\n",
        "    return N_Data"
      ],
      "metadata": {
        "id": "2JvieTBdKoez"
      },
      "execution_count": 6,
      "outputs": []
    },
    {
      "cell_type": "code",
      "source": [
        "NormData = normalise(df)"
      ],
      "metadata": {
        "id": "hGpZ-NlZKvoX"
      },
      "execution_count": 7,
      "outputs": []
    },
    {
      "cell_type": "code",
      "source": [
        "print (NormData)"
      ],
      "metadata": {
        "colab": {
          "base_uri": "https://localhost:8080/"
        },
        "id": "igOjpIR0LC7A",
        "outputId": "78eacb1d-b9e0-4f07-8519-313df7096f7e"
      },
      "execution_count": 8,
      "outputs": [
        {
          "output_type": "stream",
          "name": "stdout",
          "text": [
            "[[0.70833333 1.         1.         ... 0.         0.         0.33333333]\n",
            " [0.16666667 1.         0.66666667 ... 0.         0.         0.66666667]\n",
            " [0.25       0.         0.33333333 ... 1.         0.         0.66666667]\n",
            " ...\n",
            " [0.8125     1.         0.         ... 0.5        0.5        1.        ]\n",
            " [0.58333333 1.         0.         ... 0.5        0.25       1.        ]\n",
            " [0.58333333 0.         0.33333333 ... 0.5        0.25       0.66666667]]\n"
          ]
        }
      ]
    },
    {
      "cell_type": "code",
      "source": [
        "print (len(NormData))\n",
        "val_split = 0.9\n",
        "Train, Val = NormData[0:int(val_split*len(NormData))] , NormData[int(val_split*len(NormData)): len(NormData)]"
      ],
      "metadata": {
        "colab": {
          "base_uri": "https://localhost:8080/"
        },
        "id": "fGB0ZBvXLrMZ",
        "outputId": "0d163603-07b4-40e1-cdac-ddb45d9a2eb4"
      },
      "execution_count": 9,
      "outputs": [
        {
          "output_type": "stream",
          "name": "stdout",
          "text": [
            "303\n"
          ]
        }
      ]
    },
    {
      "cell_type": "code",
      "source": [
        "Label, Val_label = Outputs[0:int(val_split*len(Outputs))] , Outputs[int(val_split*len(Outputs)): len(Outputs)]"
      ],
      "metadata": {
        "id": "uLVdDnt-QjYA"
      },
      "execution_count": 10,
      "outputs": []
    },
    {
      "cell_type": "code",
      "source": [
        "model = Sequential()\n",
        "model.add(Input(shape = 13))\n",
        "model.add(Dense(32, activation = 'relu'))\n",
        "model.add(Dense(32))\n",
        "model.add(Dense(1, activation = 'sigmoid'))\n",
        "#model.compile(loss = 'mse', optimizer = 'Adam')\n",
        "model.compile(optimizer='adam',\n",
        "              loss=tf.keras.losses.BinaryCrossentropy(from_logits=True),\n",
        "              metrics=['accuracy'])"
      ],
      "metadata": {
        "id": "0VFKLgL_ONCn"
      },
      "execution_count": 21,
      "outputs": []
    },
    {
      "cell_type": "code",
      "source": [
        "model.fit(Train,Label, epochs = 100 )"
      ],
      "metadata": {
        "colab": {
          "base_uri": "https://localhost:8080/"
        },
        "id": "gV6DwK1-Q2PK",
        "outputId": "ca790d79-dbcb-44a7-e912-dc308c09da06"
      },
      "execution_count": 22,
      "outputs": [
        {
          "output_type": "stream",
          "name": "stdout",
          "text": [
            "Epoch 1/100\n",
            "9/9 [==============================] - 1s 4ms/step - loss: 0.7060 - accuracy: 0.5919\n",
            "Epoch 2/100\n",
            "9/9 [==============================] - 0s 4ms/step - loss: 0.6689 - accuracy: 0.6029\n",
            "Epoch 3/100\n",
            "9/9 [==============================] - 0s 4ms/step - loss: 0.6351 - accuracy: 0.6287\n",
            "Epoch 4/100\n",
            "9/9 [==============================] - 0s 3ms/step - loss: 0.6022 - accuracy: 0.6912\n",
            "Epoch 5/100\n",
            "9/9 [==============================] - 0s 3ms/step - loss: 0.5669 - accuracy: 0.7463\n",
            "Epoch 6/100\n",
            "9/9 [==============================] - 0s 3ms/step - loss: 0.5302 - accuracy: 0.7831\n",
            "Epoch 7/100\n",
            "9/9 [==============================] - 0s 3ms/step - loss: 0.4939 - accuracy: 0.8015\n",
            "Epoch 8/100\n",
            "9/9 [==============================] - 0s 4ms/step - loss: 0.4600 - accuracy: 0.8272\n",
            "Epoch 9/100\n",
            "9/9 [==============================] - 0s 3ms/step - loss: 0.4310 - accuracy: 0.8309\n",
            "Epoch 10/100\n",
            "9/9 [==============================] - 0s 4ms/step - loss: 0.4088 - accuracy: 0.8346\n",
            "Epoch 11/100\n",
            "9/9 [==============================] - 0s 3ms/step - loss: 0.3894 - accuracy: 0.8419\n",
            "Epoch 12/100\n",
            "9/9 [==============================] - 0s 3ms/step - loss: 0.3765 - accuracy: 0.8493\n",
            "Epoch 13/100\n",
            "9/9 [==============================] - 0s 3ms/step - loss: 0.3668 - accuracy: 0.8456\n",
            "Epoch 14/100\n",
            "9/9 [==============================] - 0s 4ms/step - loss: 0.3569 - accuracy: 0.8529\n",
            "Epoch 15/100\n",
            "9/9 [==============================] - 0s 4ms/step - loss: 0.3510 - accuracy: 0.8529\n",
            "Epoch 16/100\n",
            "9/9 [==============================] - 0s 4ms/step - loss: 0.3455 - accuracy: 0.8603\n",
            "Epoch 17/100\n",
            "9/9 [==============================] - 0s 4ms/step - loss: 0.3415 - accuracy: 0.8676\n",
            "Epoch 18/100\n",
            "9/9 [==============================] - 0s 4ms/step - loss: 0.3383 - accuracy: 0.8603\n",
            "Epoch 19/100\n",
            "9/9 [==============================] - 0s 3ms/step - loss: 0.3339 - accuracy: 0.8713\n",
            "Epoch 20/100\n",
            "9/9 [==============================] - 0s 3ms/step - loss: 0.3301 - accuracy: 0.8713\n",
            "Epoch 21/100\n",
            "9/9 [==============================] - 0s 3ms/step - loss: 0.3271 - accuracy: 0.8750\n",
            "Epoch 22/100\n",
            "9/9 [==============================] - 0s 3ms/step - loss: 0.3261 - accuracy: 0.8713\n",
            "Epoch 23/100\n",
            "9/9 [==============================] - 0s 3ms/step - loss: 0.3240 - accuracy: 0.8750\n",
            "Epoch 24/100\n",
            "9/9 [==============================] - 0s 4ms/step - loss: 0.3201 - accuracy: 0.8787\n",
            "Epoch 25/100\n",
            "9/9 [==============================] - 0s 3ms/step - loss: 0.3187 - accuracy: 0.8713\n",
            "Epoch 26/100\n",
            "9/9 [==============================] - 0s 4ms/step - loss: 0.3166 - accuracy: 0.8676\n",
            "Epoch 27/100\n",
            "9/9 [==============================] - 0s 4ms/step - loss: 0.3172 - accuracy: 0.8787\n",
            "Epoch 28/100\n",
            "9/9 [==============================] - 0s 4ms/step - loss: 0.3127 - accuracy: 0.8713\n",
            "Epoch 29/100\n",
            "9/9 [==============================] - 0s 3ms/step - loss: 0.3144 - accuracy: 0.8713\n",
            "Epoch 30/100\n",
            "9/9 [==============================] - 0s 4ms/step - loss: 0.3108 - accuracy: 0.8750\n",
            "Epoch 31/100\n",
            "9/9 [==============================] - 0s 4ms/step - loss: 0.3087 - accuracy: 0.8750\n",
            "Epoch 32/100\n",
            "9/9 [==============================] - 0s 3ms/step - loss: 0.3074 - accuracy: 0.8750\n",
            "Epoch 33/100\n",
            "9/9 [==============================] - 0s 3ms/step - loss: 0.3069 - accuracy: 0.8750\n",
            "Epoch 34/100\n",
            "9/9 [==============================] - 0s 5ms/step - loss: 0.3038 - accuracy: 0.8750\n",
            "Epoch 35/100\n",
            "9/9 [==============================] - 0s 4ms/step - loss: 0.3024 - accuracy: 0.8750\n",
            "Epoch 36/100\n",
            "9/9 [==============================] - 0s 3ms/step - loss: 0.3016 - accuracy: 0.8750\n",
            "Epoch 37/100\n",
            "9/9 [==============================] - 0s 4ms/step - loss: 0.3006 - accuracy: 0.8750\n",
            "Epoch 38/100\n",
            "9/9 [==============================] - 0s 3ms/step - loss: 0.3005 - accuracy: 0.8787\n",
            "Epoch 39/100\n",
            "9/9 [==============================] - 0s 3ms/step - loss: 0.3010 - accuracy: 0.8787\n",
            "Epoch 40/100\n",
            "9/9 [==============================] - 0s 4ms/step - loss: 0.2955 - accuracy: 0.8750\n",
            "Epoch 41/100\n",
            "9/9 [==============================] - 0s 4ms/step - loss: 0.2946 - accuracy: 0.8787\n",
            "Epoch 42/100\n",
            "9/9 [==============================] - 0s 3ms/step - loss: 0.2938 - accuracy: 0.8750\n",
            "Epoch 43/100\n",
            "9/9 [==============================] - 0s 3ms/step - loss: 0.2927 - accuracy: 0.8824\n",
            "Epoch 44/100\n",
            "9/9 [==============================] - 0s 4ms/step - loss: 0.2900 - accuracy: 0.8750\n",
            "Epoch 45/100\n",
            "9/9 [==============================] - 0s 3ms/step - loss: 0.2879 - accuracy: 0.8787\n",
            "Epoch 46/100\n",
            "9/9 [==============================] - 0s 6ms/step - loss: 0.2887 - accuracy: 0.8787\n",
            "Epoch 47/100\n",
            "9/9 [==============================] - 0s 3ms/step - loss: 0.2860 - accuracy: 0.8787\n",
            "Epoch 48/100\n",
            "9/9 [==============================] - 0s 5ms/step - loss: 0.2856 - accuracy: 0.8824\n",
            "Epoch 49/100\n",
            "9/9 [==============================] - 0s 3ms/step - loss: 0.2859 - accuracy: 0.8824\n",
            "Epoch 50/100\n",
            "9/9 [==============================] - 0s 4ms/step - loss: 0.2825 - accuracy: 0.8824\n",
            "Epoch 51/100\n",
            "9/9 [==============================] - 0s 3ms/step - loss: 0.2812 - accuracy: 0.8824\n",
            "Epoch 52/100\n",
            "9/9 [==============================] - 0s 3ms/step - loss: 0.2808 - accuracy: 0.8824\n",
            "Epoch 53/100\n",
            "9/9 [==============================] - 0s 4ms/step - loss: 0.2767 - accuracy: 0.8897\n",
            "Epoch 54/100\n",
            "9/9 [==============================] - 0s 3ms/step - loss: 0.2813 - accuracy: 0.8934\n",
            "Epoch 55/100\n",
            "9/9 [==============================] - 0s 3ms/step - loss: 0.2802 - accuracy: 0.8824\n",
            "Epoch 56/100\n",
            "9/9 [==============================] - 0s 3ms/step - loss: 0.2764 - accuracy: 0.8860\n",
            "Epoch 57/100\n",
            "9/9 [==============================] - 0s 4ms/step - loss: 0.2742 - accuracy: 0.8934\n",
            "Epoch 58/100\n",
            "9/9 [==============================] - 0s 4ms/step - loss: 0.2720 - accuracy: 0.8971\n",
            "Epoch 59/100\n",
            "9/9 [==============================] - 0s 5ms/step - loss: 0.2712 - accuracy: 0.8897\n",
            "Epoch 60/100\n",
            "9/9 [==============================] - 0s 3ms/step - loss: 0.2696 - accuracy: 0.8934\n",
            "Epoch 61/100\n",
            "9/9 [==============================] - 0s 3ms/step - loss: 0.2686 - accuracy: 0.8934\n",
            "Epoch 62/100\n",
            "9/9 [==============================] - 0s 3ms/step - loss: 0.2695 - accuracy: 0.8934\n",
            "Epoch 63/100\n",
            "9/9 [==============================] - 0s 3ms/step - loss: 0.2661 - accuracy: 0.8971\n",
            "Epoch 64/100\n",
            "9/9 [==============================] - 0s 3ms/step - loss: 0.2642 - accuracy: 0.8971\n",
            "Epoch 65/100\n",
            "9/9 [==============================] - 0s 4ms/step - loss: 0.2641 - accuracy: 0.8971\n",
            "Epoch 66/100\n",
            "9/9 [==============================] - 0s 3ms/step - loss: 0.2622 - accuracy: 0.9007\n",
            "Epoch 67/100\n",
            "9/9 [==============================] - 0s 3ms/step - loss: 0.2603 - accuracy: 0.9044\n",
            "Epoch 68/100\n",
            "9/9 [==============================] - 0s 3ms/step - loss: 0.2584 - accuracy: 0.9007\n",
            "Epoch 69/100\n",
            "9/9 [==============================] - 0s 3ms/step - loss: 0.2566 - accuracy: 0.9007\n",
            "Epoch 70/100\n",
            "9/9 [==============================] - 0s 3ms/step - loss: 0.2546 - accuracy: 0.8971\n",
            "Epoch 71/100\n",
            "9/9 [==============================] - 0s 4ms/step - loss: 0.2531 - accuracy: 0.9007\n",
            "Epoch 72/100\n",
            "9/9 [==============================] - 0s 3ms/step - loss: 0.2519 - accuracy: 0.9044\n",
            "Epoch 73/100\n",
            "9/9 [==============================] - 0s 3ms/step - loss: 0.2509 - accuracy: 0.9044\n",
            "Epoch 74/100\n",
            "9/9 [==============================] - 0s 3ms/step - loss: 0.2519 - accuracy: 0.9081\n",
            "Epoch 75/100\n",
            "9/9 [==============================] - 0s 3ms/step - loss: 0.2488 - accuracy: 0.9191\n",
            "Epoch 76/100\n",
            "9/9 [==============================] - 0s 3ms/step - loss: 0.2463 - accuracy: 0.9154\n",
            "Epoch 77/100\n",
            "9/9 [==============================] - 0s 3ms/step - loss: 0.2453 - accuracy: 0.9191\n",
            "Epoch 78/100\n",
            "9/9 [==============================] - 0s 3ms/step - loss: 0.2444 - accuracy: 0.9228\n",
            "Epoch 79/100\n",
            "9/9 [==============================] - 0s 3ms/step - loss: 0.2423 - accuracy: 0.9154\n",
            "Epoch 80/100\n",
            "9/9 [==============================] - 0s 3ms/step - loss: 0.2417 - accuracy: 0.9191\n",
            "Epoch 81/100\n",
            "9/9 [==============================] - 0s 3ms/step - loss: 0.2407 - accuracy: 0.9228\n",
            "Epoch 82/100\n",
            "9/9 [==============================] - 0s 3ms/step - loss: 0.2391 - accuracy: 0.9191\n",
            "Epoch 83/100\n",
            "9/9 [==============================] - 0s 3ms/step - loss: 0.2377 - accuracy: 0.9228\n",
            "Epoch 84/100\n",
            "9/9 [==============================] - 0s 4ms/step - loss: 0.2363 - accuracy: 0.9191\n",
            "Epoch 85/100\n",
            "9/9 [==============================] - 0s 3ms/step - loss: 0.2348 - accuracy: 0.9301\n",
            "Epoch 86/100\n",
            "9/9 [==============================] - 0s 3ms/step - loss: 0.2345 - accuracy: 0.9301\n",
            "Epoch 87/100\n",
            "9/9 [==============================] - 0s 3ms/step - loss: 0.2325 - accuracy: 0.9154\n",
            "Epoch 88/100\n",
            "9/9 [==============================] - 0s 4ms/step - loss: 0.2320 - accuracy: 0.9154\n",
            "Epoch 89/100\n",
            "9/9 [==============================] - 0s 3ms/step - loss: 0.2293 - accuracy: 0.9301\n",
            "Epoch 90/100\n",
            "9/9 [==============================] - 0s 4ms/step - loss: 0.2283 - accuracy: 0.9338\n",
            "Epoch 91/100\n",
            "9/9 [==============================] - 0s 4ms/step - loss: 0.2279 - accuracy: 0.9265\n",
            "Epoch 92/100\n",
            "9/9 [==============================] - 0s 3ms/step - loss: 0.2286 - accuracy: 0.9118\n",
            "Epoch 93/100\n",
            "9/9 [==============================] - 0s 3ms/step - loss: 0.2264 - accuracy: 0.9301\n",
            "Epoch 94/100\n",
            "9/9 [==============================] - 0s 3ms/step - loss: 0.2271 - accuracy: 0.9301\n",
            "Epoch 95/100\n",
            "9/9 [==============================] - 0s 3ms/step - loss: 0.2225 - accuracy: 0.9228\n",
            "Epoch 96/100\n",
            "9/9 [==============================] - 0s 3ms/step - loss: 0.2229 - accuracy: 0.9301\n",
            "Epoch 97/100\n",
            "9/9 [==============================] - 0s 3ms/step - loss: 0.2190 - accuracy: 0.9301\n",
            "Epoch 98/100\n",
            "9/9 [==============================] - 0s 4ms/step - loss: 0.2193 - accuracy: 0.9265\n",
            "Epoch 99/100\n",
            "9/9 [==============================] - 0s 4ms/step - loss: 0.2203 - accuracy: 0.9301\n",
            "Epoch 100/100\n",
            "9/9 [==============================] - 0s 4ms/step - loss: 0.2153 - accuracy: 0.9301\n"
          ]
        },
        {
          "output_type": "execute_result",
          "data": {
            "text/plain": [
              "<keras.callbacks.History at 0x7f463a44d2b0>"
            ]
          },
          "metadata": {},
          "execution_count": 22
        }
      ]
    },
    {
      "cell_type": "code",
      "source": [
        "print(model.predict(Val))\n",
        "print(np.argmax(model.predict(Val)[0]))"
      ],
      "metadata": {
        "colab": {
          "base_uri": "https://localhost:8080/"
        },
        "id": "fCbqwxFaRKMp",
        "outputId": "b96dbdc3-0b1d-4c8a-f373-f2b4d73cbee0"
      },
      "execution_count": 23,
      "outputs": [
        {
          "output_type": "stream",
          "name": "stdout",
          "text": [
            "1/1 [==============================] - 0s 64ms/step\n",
            "[[0.19715525]\n",
            " [0.6928229 ]\n",
            " [0.06397677]\n",
            " [0.29180294]\n",
            " [0.03725443]\n",
            " [0.84625936]\n",
            " [0.94230384]\n",
            " [0.01090397]\n",
            " [0.16858947]\n",
            " [0.4692683 ]\n",
            " [0.8675451 ]\n",
            " [0.8849998 ]\n",
            " [0.04597155]\n",
            " [0.00234902]\n",
            " [0.85695124]\n",
            " [0.765554  ]\n",
            " [0.01033528]\n",
            " [0.02257808]\n",
            " [0.7842709 ]\n",
            " [0.00131142]\n",
            " [0.00197941]\n",
            " [0.48047975]\n",
            " [0.04403328]\n",
            " [0.00369592]\n",
            " [0.76651174]\n",
            " [0.07253613]\n",
            " [0.19752614]\n",
            " [0.6572777 ]\n",
            " [0.00785997]\n",
            " [0.06133366]\n",
            " [0.9679275 ]]\n",
            "1/1 [==============================] - 0s 22ms/step\n",
            "0\n"
          ]
        }
      ]
    },
    {
      "cell_type": "code",
      "source": [
        "Hold = []\n",
        "for i in range(len(Val)):\n",
        "  Hold.append((np.argmax(model.predict(Val)[i])))"
      ],
      "metadata": {
        "colab": {
          "base_uri": "https://localhost:8080/"
        },
        "id": "ADdUCrdQU8_7",
        "outputId": "16db3f6e-f4d7-416b-c595-65352f6f04e1"
      },
      "execution_count": 24,
      "outputs": [
        {
          "output_type": "stream",
          "name": "stdout",
          "text": [
            "1/1 [==============================] - 0s 20ms/step\n",
            "1/1 [==============================] - 0s 19ms/step\n",
            "1/1 [==============================] - 0s 23ms/step\n",
            "1/1 [==============================] - 0s 19ms/step\n",
            "1/1 [==============================] - 0s 21ms/step\n",
            "1/1 [==============================] - 0s 20ms/step\n",
            "1/1 [==============================] - 0s 23ms/step\n",
            "1/1 [==============================] - 0s 26ms/step\n",
            "1/1 [==============================] - 0s 20ms/step\n",
            "1/1 [==============================] - 0s 28ms/step\n",
            "1/1 [==============================] - 0s 27ms/step\n",
            "1/1 [==============================] - 0s 22ms/step\n",
            "1/1 [==============================] - 0s 26ms/step\n",
            "1/1 [==============================] - 0s 26ms/step\n",
            "1/1 [==============================] - 0s 23ms/step\n",
            "1/1 [==============================] - 0s 30ms/step\n",
            "1/1 [==============================] - 0s 23ms/step\n",
            "1/1 [==============================] - 0s 23ms/step\n",
            "1/1 [==============================] - 0s 29ms/step\n",
            "1/1 [==============================] - 0s 22ms/step\n",
            "1/1 [==============================] - 0s 23ms/step\n",
            "1/1 [==============================] - 0s 24ms/step\n",
            "1/1 [==============================] - 0s 27ms/step\n",
            "1/1 [==============================] - 0s 35ms/step\n",
            "1/1 [==============================] - 0s 24ms/step\n",
            "1/1 [==============================] - 0s 25ms/step\n",
            "1/1 [==============================] - 0s 24ms/step\n",
            "1/1 [==============================] - 0s 27ms/step\n",
            "1/1 [==============================] - 0s 21ms/step\n",
            "1/1 [==============================] - 0s 32ms/step\n",
            "1/1 [==============================] - 0s 21ms/step\n"
          ]
        }
      ]
    },
    {
      "cell_type": "code",
      "source": [
        "print(Hold)"
      ],
      "metadata": {
        "colab": {
          "base_uri": "https://localhost:8080/"
        },
        "id": "ocmJRDMcVRcX",
        "outputId": "d46fd3da-5047-4c92-c5cd-0b9cc615c5a5"
      },
      "execution_count": 25,
      "outputs": [
        {
          "output_type": "stream",
          "name": "stdout",
          "text": [
            "[0, 0, 0, 0, 0, 0, 0, 0, 0, 0, 0, 0, 0, 0, 0, 0, 0, 0, 0, 0, 0, 0, 0, 0, 0, 0, 0, 0, 0, 0, 0]\n"
          ]
        }
      ]
    },
    {
      "cell_type": "code",
      "source": [
        "print(Val_label)"
      ],
      "metadata": {
        "colab": {
          "base_uri": "https://localhost:8080/"
        },
        "id": "NdAbg_W2VUuC",
        "outputId": "3523e427-4797-4a28-82d6-85aff192663b"
      },
      "execution_count": 26,
      "outputs": [
        {
          "output_type": "stream",
          "name": "stdout",
          "text": [
            "272    0\n",
            "273    0\n",
            "274    0\n",
            "275    0\n",
            "276    0\n",
            "277    0\n",
            "278    0\n",
            "279    0\n",
            "280    0\n",
            "281    0\n",
            "282    0\n",
            "283    0\n",
            "284    0\n",
            "285    0\n",
            "286    0\n",
            "287    0\n",
            "288    0\n",
            "289    0\n",
            "290    0\n",
            "291    0\n",
            "292    0\n",
            "293    0\n",
            "294    0\n",
            "295    0\n",
            "296    0\n",
            "297    0\n",
            "298    0\n",
            "299    0\n",
            "300    0\n",
            "301    0\n",
            "302    0\n",
            "Name: output, dtype: int64\n"
          ]
        }
      ]
    }
  ]
}